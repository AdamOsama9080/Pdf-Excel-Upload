{
 "cells": [
  {
   "cell_type": "code",
   "execution_count": null,
   "id": "10b4346f",
   "metadata": {},
   "outputs": [],
   "source": [
    "import mysql.connector\n",
    "import datetime\n",
    "\n",
    "mydb = mysql.connector.connect(\n",
    "    host=\"mysql5045.site4now.net\",\n",
    "    user=\"a99555_quality\",\n",
    "    password=\"AQI@123456\",\n",
    "    database=\"db_a99555_quality\"\n",
    ")\n",
    "\n",
    "file_path = \"test_one.xlsx\"\n",
    "pdf_path = \"test_one.pdf\"\n",
    "\n",
    "with open(file_path, \"rb\") as f:\n",
    "    file_data = f.read()\n",
    "\n",
    "with open(pdf_path, \"rb\") as f:\n",
    "    pdf_data = f.read()\n",
    "\n",
    "current_date = datetime.date.today()\n",
    "\n",
    "cursor = mydb.cursor()\n",
    "\n",
    "excel_sql = \"INSERT INTO excel_data (file_name, date_column, excel_data) VALUES (%s, %s, %s)\"\n",
    "excel_val = (\"file.xlsx\", current_date, file_data)\n",
    "cursor.execute(excel_sql, excel_val)\n",
    "\n",
    "pdf_sql = \"INSERT INTO pdfs_file (file_name, date_column, pdf_data) VALUES (%s, %s, %s)\"\n",
    "pdf_val = (\"file.pdf\", current_date, pdf_data)\n",
    "cursor.execute(pdf_sql, pdf_val)\n",
    "\n",
    "mydb.commit()\n",
    "\n",
    "mydb.close()\n"
   ]
  }
 ],
 "metadata": {
  "kernelspec": {
   "display_name": "Python 3 (ipykernel)",
   "language": "python",
   "name": "python3"
  },
  "language_info": {
   "codemirror_mode": {
    "name": "ipython",
    "version": 3
   },
   "file_extension": ".py",
   "mimetype": "text/x-python",
   "name": "python",
   "nbconvert_exporter": "python",
   "pygments_lexer": "ipython3",
   "version": "3.10.9"
  }
 },
 "nbformat": 4,
 "nbformat_minor": 5
}
